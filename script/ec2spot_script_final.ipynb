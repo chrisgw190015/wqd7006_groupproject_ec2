{
 "cells": [
  {
   "cell_type": "code",
   "execution_count": 539,
   "metadata": {},
   "outputs": [],
   "source": [
    "# import packages for linear algebra and dataframes\n",
    "import numpy as np\n",
    "import pandas as pd\n",
    "\n",
    "# import packages for algorithms\n",
    "from sklearn import preprocessing\n",
    "from sklearn import linear_model\n",
    "from sklearn.model_selection import cross_val_score, cross_val_predict, GridSearchCV, RandomizedSearchCV\n",
    "from sklearn.metrics import classification_report, confusion_matrix, accuracy_score, recall_score, precision_score, f1_score, roc_auc_score\n",
    "from sklearn.linear_model import LogisticRegression\n",
    "from sklearn.ensemble import RandomForestClassifier\n",
    "from sklearn.tree import DecisionTreeClassifier\n",
    "from sklearn.neighbors import KNeighborsClassifier\n",
    "\n",
    "# import packages for data visualization\n",
    "import seaborn as sns\n",
    "\n",
    "# from matplotlib import style\n",
    "%matplotlib inline"
   ]
  },
  {
   "cell_type": "code",
   "execution_count": 540,
   "metadata": {},
   "outputs": [],
   "source": [
    "# load ec2 dataset containing data collected over consecutive 30 days\n",
    "spot = pd.read_csv(\"/Users/Chee San/Downloads/train_ec2_10f2c.csv\")"
   ]
  },
  {
   "cell_type": "code",
   "execution_count": 541,
   "metadata": {},
   "outputs": [
    {
     "name": "stdout",
     "output_type": "stream",
     "text": [
      "<class 'pandas.core.frame.DataFrame'>\n",
      "RangeIndex: 14256 entries, 0 to 14255\n",
      "Data columns (total 11 columns):\n",
      " #   Column                         Non-Null Count  Dtype  \n",
      "---  ------                         --------------  -----  \n",
      " 0   id                             14256 non-null  int64  \n",
      " 1   check_time                     14256 non-null  object \n",
      " 2   instance_type                  14256 non-null  object \n",
      " 3   vcpus                          14256 non-null  int64  \n",
      " 4   sustained_clock_speed_ghz      14256 non-null  float64\n",
      " 5   memory_mib                     14256 non-null  int64  \n",
      " 6   gpus                           14256 non-null  int64  \n",
      " 7   on_demand_hibernation_support  14256 non-null  bool   \n",
      " 8   burstable_performance_support  14256 non-null  bool   \n",
      " 9   current_generation             14256 non-null  bool   \n",
      " 10  interruption_rate              14256 non-null  object \n",
      "dtypes: bool(3), float64(1), int64(4), object(3)\n",
      "memory usage: 932.9+ KB\n"
     ]
    }
   ],
   "source": [
    "# Get an overview of the dataset\n",
    "spot.info()"
   ]
  },
  {
   "cell_type": "code",
   "execution_count": 542,
   "metadata": {},
   "outputs": [
    {
     "data": {
      "text/html": [
       "<div>\n",
       "<style scoped>\n",
       "    .dataframe tbody tr th:only-of-type {\n",
       "        vertical-align: middle;\n",
       "    }\n",
       "\n",
       "    .dataframe tbody tr th {\n",
       "        vertical-align: top;\n",
       "    }\n",
       "\n",
       "    .dataframe thead th {\n",
       "        text-align: right;\n",
       "    }\n",
       "</style>\n",
       "<table border=\"1\" class=\"dataframe\">\n",
       "  <thead>\n",
       "    <tr style=\"text-align: right;\">\n",
       "      <th></th>\n",
       "      <th>vcpus</th>\n",
       "      <th>sustained_clock_speed_ghz</th>\n",
       "      <th>memory_mib</th>\n",
       "      <th>gpus</th>\n",
       "      <th>on_demand_hibernation_support</th>\n",
       "      <th>burstable_performance_support</th>\n",
       "      <th>current_generation</th>\n",
       "      <th>interruption_rate</th>\n",
       "    </tr>\n",
       "  </thead>\n",
       "  <tbody>\n",
       "    <tr>\n",
       "      <th>0</th>\n",
       "      <td>2</td>\n",
       "      <td>2.3</td>\n",
       "      <td>4096</td>\n",
       "      <td>0</td>\n",
       "      <td>True</td>\n",
       "      <td>True</td>\n",
       "      <td>True</td>\n",
       "      <td>unlikely</td>\n",
       "    </tr>\n",
       "    <tr>\n",
       "      <th>1</th>\n",
       "      <td>1</td>\n",
       "      <td>2.5</td>\n",
       "      <td>1024</td>\n",
       "      <td>0</td>\n",
       "      <td>True</td>\n",
       "      <td>True</td>\n",
       "      <td>True</td>\n",
       "      <td>unlikely</td>\n",
       "    </tr>\n",
       "    <tr>\n",
       "      <th>2</th>\n",
       "      <td>1</td>\n",
       "      <td>2.5</td>\n",
       "      <td>2048</td>\n",
       "      <td>0</td>\n",
       "      <td>True</td>\n",
       "      <td>True</td>\n",
       "      <td>True</td>\n",
       "      <td>unlikely</td>\n",
       "    </tr>\n",
       "    <tr>\n",
       "      <th>3</th>\n",
       "      <td>4</td>\n",
       "      <td>2.3</td>\n",
       "      <td>16384</td>\n",
       "      <td>0</td>\n",
       "      <td>True</td>\n",
       "      <td>True</td>\n",
       "      <td>True</td>\n",
       "      <td>unlikely</td>\n",
       "    </tr>\n",
       "    <tr>\n",
       "      <th>4</th>\n",
       "      <td>16</td>\n",
       "      <td>2.3</td>\n",
       "      <td>32768</td>\n",
       "      <td>0</td>\n",
       "      <td>False</td>\n",
       "      <td>False</td>\n",
       "      <td>True</td>\n",
       "      <td>unlikely</td>\n",
       "    </tr>\n",
       "    <tr>\n",
       "      <th>5</th>\n",
       "      <td>96</td>\n",
       "      <td>3.6</td>\n",
       "      <td>196608</td>\n",
       "      <td>0</td>\n",
       "      <td>False</td>\n",
       "      <td>False</td>\n",
       "      <td>True</td>\n",
       "      <td>unlikely</td>\n",
       "    </tr>\n",
       "    <tr>\n",
       "      <th>6</th>\n",
       "      <td>96</td>\n",
       "      <td>3.6</td>\n",
       "      <td>196608</td>\n",
       "      <td>0</td>\n",
       "      <td>False</td>\n",
       "      <td>False</td>\n",
       "      <td>True</td>\n",
       "      <td>unlikely</td>\n",
       "    </tr>\n",
       "    <tr>\n",
       "      <th>7</th>\n",
       "      <td>72</td>\n",
       "      <td>3.4</td>\n",
       "      <td>196608</td>\n",
       "      <td>0</td>\n",
       "      <td>False</td>\n",
       "      <td>False</td>\n",
       "      <td>True</td>\n",
       "      <td>unlikely</td>\n",
       "    </tr>\n",
       "    <tr>\n",
       "      <th>8</th>\n",
       "      <td>72</td>\n",
       "      <td>3.4</td>\n",
       "      <td>196608</td>\n",
       "      <td>0</td>\n",
       "      <td>False</td>\n",
       "      <td>False</td>\n",
       "      <td>True</td>\n",
       "      <td>unlikely</td>\n",
       "    </tr>\n",
       "    <tr>\n",
       "      <th>9</th>\n",
       "      <td>16</td>\n",
       "      <td>2.9</td>\n",
       "      <td>30720</td>\n",
       "      <td>0</td>\n",
       "      <td>True</td>\n",
       "      <td>False</td>\n",
       "      <td>True</td>\n",
       "      <td>unlikely</td>\n",
       "    </tr>\n",
       "  </tbody>\n",
       "</table>\n",
       "</div>"
      ],
      "text/plain": [
       "   vcpus  sustained_clock_speed_ghz  memory_mib  gpus  \\\n",
       "0      2                        2.3        4096     0   \n",
       "1      1                        2.5        1024     0   \n",
       "2      1                        2.5        2048     0   \n",
       "3      4                        2.3       16384     0   \n",
       "4     16                        2.3       32768     0   \n",
       "5     96                        3.6      196608     0   \n",
       "6     96                        3.6      196608     0   \n",
       "7     72                        3.4      196608     0   \n",
       "8     72                        3.4      196608     0   \n",
       "9     16                        2.9       30720     0   \n",
       "\n",
       "   on_demand_hibernation_support  burstable_performance_support  \\\n",
       "0                           True                           True   \n",
       "1                           True                           True   \n",
       "2                           True                           True   \n",
       "3                           True                           True   \n",
       "4                          False                          False   \n",
       "5                          False                          False   \n",
       "6                          False                          False   \n",
       "7                          False                          False   \n",
       "8                          False                          False   \n",
       "9                           True                          False   \n",
       "\n",
       "   current_generation interruption_rate  \n",
       "0                True          unlikely  \n",
       "1                True          unlikely  \n",
       "2                True          unlikely  \n",
       "3                True          unlikely  \n",
       "4                True          unlikely  \n",
       "5                True          unlikely  \n",
       "6                True          unlikely  \n",
       "7                True          unlikely  \n",
       "8                True          unlikely  \n",
       "9                True          unlikely  "
      ]
     },
     "execution_count": 542,
     "metadata": {},
     "output_type": "execute_result"
    }
   ],
   "source": [
    "# Removed the columns which are not going to be used as predictors\n",
    "spot = spot.drop(columns=['id'])\n",
    "spot = spot.drop(columns=['check_time'])\n",
    "spot = spot.drop(columns=['instance_type'])\n",
    "\n",
    "# View the first 10 rows of the dataset\n",
    "spot.head(10)"
   ]
  },
  {
   "cell_type": "code",
   "execution_count": 543,
   "metadata": {},
   "outputs": [],
   "source": [
    "# Normalize numerical columns\n",
    "mms = preprocessing.MinMaxScaler()\n",
    "spot[['vcpus','sustained_clock_speed_ghz','memory_mib','gpus']] = mms.fit_transform(spot[['vcpus','sustained_clock_speed_ghz',\n",
    "                                                                                          'memory_mib','gpus']])\n",
    "\n",
    "# Convert interruption_rate into '1' for 'likely' and '0' for 'unlikely'\n",
    "category = {'likely': 1, 'unlikely': 0}\n",
    "spot.interruption_rate = [category[item] for item in spot.interruption_rate]"
   ]
  },
  {
   "cell_type": "code",
   "execution_count": 544,
   "metadata": {},
   "outputs": [],
   "source": [
    "# Encoding the nominal values and passthrough other columns\n",
    "spot_features = spot[['vcpus', 'sustained_clock_speed_ghz', 'memory_mib', \n",
    "                 'gpus', 'on_demand_hibernation_support', 'burstable_performance_support', \n",
    "                 'current_generation']]\n",
    "\n",
    "# convert nominal to binary\n",
    "one_hot_encoded_training_predictors = pd.get_dummies(spot_features)\n",
    "\n",
    "#spot.head(3)\n",
    "#print(one_hot_encoded_training_predictors.head(10))"
   ]
  },
  {
   "cell_type": "code",
   "execution_count": 545,
   "metadata": {},
   "outputs": [],
   "source": [
    "X = one_hot_encoded_training_predictors # Features\n",
    "y = spot['interruption_rate'] # Target variable\n",
    "one_hot_encoded_training_predictors.to_csv(\"/Users/Chee San/Downloads/spot_transformed.csv\")"
   ]
  },
  {
   "cell_type": "code",
   "execution_count": 546,
   "metadata": {},
   "outputs": [
    {
     "name": "stdout",
     "output_type": "stream",
     "text": [
      "Logistic Regression accuracy = 71.37 ± 0.93\n"
     ]
    }
   ],
   "source": [
    "# Logistic Regression\n",
    "logreg = LogisticRegression(solver = 'lbfgs', max_iter = 1000)\n",
    "scores_lgr = cross_val_score(logreg, X, y, cv=10, scoring = 'accuracy')\n",
    "mean_lgr = round((scores_lgr.mean()*100),2)\n",
    "std_lgr = round((scores_lgr.std()*100),2)\n",
    "print('Logistic Regression accuracy =', mean_lgr, u\"\\u00B1\", std_lgr)"
   ]
  },
  {
   "cell_type": "code",
   "execution_count": 547,
   "metadata": {},
   "outputs": [
    {
     "name": "stdout",
     "output_type": "stream",
     "text": [
      "Logistic Regression confusion matrix:\n",
      "[[3474 3402]\n",
      " [ 679 6701]]\n"
     ]
    }
   ],
   "source": [
    "# Logistic Regression results and confusion matrix\n",
    "y_pred_lgr = cross_val_predict(logreg, X, y, cv=10)\n",
    "conf_mat = confusion_matrix(y,y_pred_lgr)\n",
    "print('Logistic Regression confusion matrix:')\n",
    "print(conf_mat)"
   ]
  },
  {
   "cell_type": "code",
   "execution_count": 548,
   "metadata": {},
   "outputs": [
    {
     "name": "stdout",
     "output_type": "stream",
     "text": [
      "Logistic Regression score summary:\n",
      "              precision    recall  f1-score   support\n",
      "\n",
      "           0       0.84      0.51      0.63      6876\n",
      "           1       0.66      0.91      0.77      7380\n",
      "\n",
      "    accuracy                           0.71     14256\n",
      "   macro avg       0.75      0.71      0.70     14256\n",
      "weighted avg       0.75      0.71      0.70     14256\n",
      "\n"
     ]
    }
   ],
   "source": [
    "# Get classification report of logistic regression\n",
    "print('Logistic Regression score summary:')\n",
    "print(classification_report(y,y_pred_lgr))"
   ]
  },
  {
   "cell_type": "code",
   "execution_count": 549,
   "metadata": {},
   "outputs": [
    {
     "data": {
      "text/plain": [
       "0.7066150910200201"
      ]
     },
     "execution_count": 549,
     "metadata": {},
     "output_type": "execute_result"
    }
   ],
   "source": [
    "# Get ROC score of the logistic regression model\n",
    "roc_auc_score(y, y_pred_lgr)"
   ]
  },
  {
   "cell_type": "code",
   "execution_count": 562,
   "metadata": {},
   "outputs": [
    {
     "name": "stdout",
     "output_type": "stream",
     "text": [
      "Random Forest accuracy = 80.93 ± 1.41\n"
     ]
    }
   ],
   "source": [
    "# Random Forest\n",
    "random_forest = RandomForestClassifier(n_estimators = 100)\n",
    "random_forest.fit(X, y)\n",
    "scores_random_forest = cross_val_score(random_forest, X, y, cv=10, scoring = 'accuracy')\n",
    "mean_rf = round((scores_random_forest.mean()*100),2)\n",
    "std_rf = round((scores_random_forest.std()*100),2)\n",
    "#acc_random_forest = round(random_forest.score(X, y) * 100, 2)\n",
    "print('Random Forest accuracy =',mean_rf, u\"\\u00B1\",std_rf)"
   ]
  },
  {
   "cell_type": "code",
   "execution_count": 563,
   "metadata": {},
   "outputs": [
    {
     "name": "stdout",
     "output_type": "stream",
     "text": [
      "Random Forest confusion matrix:\n",
      "[[5628 1248]\n",
      " [1475 5905]]\n"
     ]
    }
   ],
   "source": [
    "# Random forest results and confusion matrix\n",
    "y_pred_rf = cross_val_predict(random_forest, X, y, cv=10)\n",
    "conf_mat_rf = confusion_matrix(y, y_pred_rf)\n",
    "print('Random Forest confusion matrix:')\n",
    "print(conf_mat_rf)"
   ]
  },
  {
   "cell_type": "code",
   "execution_count": 565,
   "metadata": {},
   "outputs": [
    {
     "name": "stdout",
     "output_type": "stream",
     "text": [
      "Random Forest score summary:\n",
      "              precision    recall  f1-score   support\n",
      "\n",
      "           0       0.79      0.82      0.81      6876\n",
      "           1       0.83      0.80      0.81      7380\n",
      "\n",
      "    accuracy                           0.81     14256\n",
      "   macro avg       0.81      0.81      0.81     14256\n",
      "weighted avg       0.81      0.81      0.81     14256\n",
      "\n"
     ]
    }
   ],
   "source": [
    "# Get classification report of random forest\n",
    "print('Random Forest score summary:')\n",
    "print(classification_report(y, y_pred_rf))"
   ]
  },
  {
   "cell_type": "code",
   "execution_count": 566,
   "metadata": {},
   "outputs": [
    {
     "data": {
      "text/plain": [
       "0.8093173143773322"
      ]
     },
     "execution_count": 566,
     "metadata": {},
     "output_type": "execute_result"
    }
   ],
   "source": [
    "# Get ROC score of the random forest model\n",
    "roc_auc_score(y, y_pred_rf)"
   ]
  },
  {
   "cell_type": "code",
   "execution_count": 567,
   "metadata": {
    "scrolled": true
   },
   "outputs": [
    {
     "name": "stdout",
     "output_type": "stream",
     "text": [
      "Decision Tree accuracy = 80.92 ± 1.42\n"
     ]
    }
   ],
   "source": [
    "# Decision Tree\n",
    "decision_tree = DecisionTreeClassifier() \n",
    "decision_tree.fit(X, y) \n",
    "scores_dt = cross_val_score(decision_tree, X, y, cv=10, scoring = 'accuracy')\n",
    "mean_dt = round((scores_dt.mean()*100),2)\n",
    "std_dt = round((scores_dt.std()*100),2)\n",
    "print('Decision Tree accuracy =', mean_dt, u\"\\u00B1\", std_dt)"
   ]
  },
  {
   "cell_type": "code",
   "execution_count": 568,
   "metadata": {},
   "outputs": [
    {
     "name": "stdout",
     "output_type": "stream",
     "text": [
      "Decision Tree confusion matrix:\n",
      "[[5745 1131]\n",
      " [1589 5791]]\n"
     ]
    }
   ],
   "source": [
    "# Decision tree results and confusion matrix\n",
    "y_pred_dt = cross_val_predict(decision_tree, X, y, cv=10)\n",
    "conf_mat_dt = confusion_matrix(y, y_pred_dt)\n",
    "print('Decision Tree confusion matrix:')\n",
    "print(conf_mat_dt)"
   ]
  },
  {
   "cell_type": "code",
   "execution_count": 569,
   "metadata": {},
   "outputs": [
    {
     "name": "stdout",
     "output_type": "stream",
     "text": [
      "Decision Tree score summary:\n",
      "              precision    recall  f1-score   support\n",
      "\n",
      "           0       0.78      0.84      0.81      6876\n",
      "           1       0.84      0.78      0.81      7380\n",
      "\n",
      "    accuracy                           0.81     14256\n",
      "   macro avg       0.81      0.81      0.81     14256\n",
      "weighted avg       0.81      0.81      0.81     14256\n",
      "\n"
     ]
    }
   ],
   "source": [
    "# Get classification report of decision tree\n",
    "print('Decision Tree score summary:')\n",
    "print(classification_report(y, y_pred_dt))"
   ]
  },
  {
   "cell_type": "code",
   "execution_count": 570,
   "metadata": {},
   "outputs": [
    {
     "data": {
      "text/plain": [
       "0.8101015905447013"
      ]
     },
     "execution_count": 570,
     "metadata": {},
     "output_type": "execute_result"
    }
   ],
   "source": [
    "# Get ROC score of decision tree\n",
    "roc_auc_score(y, y_pred_dt)"
   ]
  },
  {
   "cell_type": "code",
   "execution_count": 571,
   "metadata": {},
   "outputs": [
    {
     "name": "stdout",
     "output_type": "stream",
     "text": [
      "KNN accuracy = 76.93 ± 1.54\n"
     ]
    }
   ],
   "source": [
    "# K Nearest Neighbor\n",
    "knn = KNeighborsClassifier(n_neighbors = 3) \n",
    "knn.fit(X, y) \n",
    "scores_knn = cross_val_score(knn, X, y, cv=10, scoring = 'accuracy')\n",
    "mean_knn = round((scores_knn.mean()*100),2)\n",
    "std_knn = round((scores_knn.std()*100),2)\n",
    "print('KNN accuracy =', mean_knn, u\"\\u00B1\", std_knn)"
   ]
  },
  {
   "cell_type": "code",
   "execution_count": 572,
   "metadata": {},
   "outputs": [
    {
     "name": "stdout",
     "output_type": "stream",
     "text": [
      "KNN confusion matrix:\n",
      "[[5416 1460]\n",
      " [1829 5551]]\n"
     ]
    }
   ],
   "source": [
    "# KNN results and confusion matrix\n",
    "y_pred_knn = cross_val_predict(knn, X, y, cv=10)\n",
    "conf_mat_knn = confusion_matrix(y, y_pred_knn)\n",
    "print('KNN confusion matrix:')\n",
    "print(conf_mat_knn)"
   ]
  },
  {
   "cell_type": "code",
   "execution_count": 573,
   "metadata": {},
   "outputs": [
    {
     "name": "stdout",
     "output_type": "stream",
     "text": [
      "KNN score summary:\n",
      "              precision    recall  f1-score   support\n",
      "\n",
      "           0       0.75      0.79      0.77      6876\n",
      "           1       0.79      0.75      0.77      7380\n",
      "\n",
      "    accuracy                           0.77     14256\n",
      "   macro avg       0.77      0.77      0.77     14256\n",
      "weighted avg       0.77      0.77      0.77     14256\n",
      "\n"
     ]
    }
   ],
   "source": [
    "# Get classification report of KNN\n",
    "print('KNN score summary:')\n",
    "print(classification_report(y, y_pred_knn))"
   ]
  },
  {
   "cell_type": "code",
   "execution_count": 574,
   "metadata": {},
   "outputs": [
    {
     "data": {
      "text/plain": [
       "0.7699176350402248"
      ]
     },
     "execution_count": 574,
     "metadata": {},
     "output_type": "execute_result"
    }
   ],
   "source": [
    "# Get ROC score of KNN\n",
    "roc_auc_score(y, y_pred_knn)"
   ]
  },
  {
   "cell_type": "code",
   "execution_count": 578,
   "metadata": {},
   "outputs": [
    {
     "data": {
      "text/html": [
       "<div>\n",
       "<style scoped>\n",
       "    .dataframe tbody tr th:only-of-type {\n",
       "        vertical-align: middle;\n",
       "    }\n",
       "\n",
       "    .dataframe tbody tr th {\n",
       "        vertical-align: top;\n",
       "    }\n",
       "\n",
       "    .dataframe thead th {\n",
       "        text-align: right;\n",
       "    }\n",
       "</style>\n",
       "<table border=\"1\" class=\"dataframe\">\n",
       "  <thead>\n",
       "    <tr style=\"text-align: right;\">\n",
       "      <th></th>\n",
       "      <th>Model</th>\n",
       "      <th>Scores (Cross Validated)</th>\n",
       "    </tr>\n",
       "  </thead>\n",
       "  <tbody>\n",
       "    <tr>\n",
       "      <th>1</th>\n",
       "      <td>Random Forest</td>\n",
       "      <td>80.93 $\\pm$ 1.41</td>\n",
       "    </tr>\n",
       "    <tr>\n",
       "      <th>2</th>\n",
       "      <td>Decision Tree</td>\n",
       "      <td>80.92 $\\pm$ 1.42</td>\n",
       "    </tr>\n",
       "    <tr>\n",
       "      <th>3</th>\n",
       "      <td>KNN</td>\n",
       "      <td>76.93 $\\pm$ 1.54</td>\n",
       "    </tr>\n",
       "    <tr>\n",
       "      <th>0</th>\n",
       "      <td>Logistic Regression</td>\n",
       "      <td>71.37 $\\pm$ 0.93</td>\n",
       "    </tr>\n",
       "  </tbody>\n",
       "</table>\n",
       "</div>"
      ],
      "text/plain": [
       "                 Model Scores (Cross Validated)\n",
       "1        Random Forest         80.93 $\\pm$ 1.41\n",
       "2        Decision Tree         80.92 $\\pm$ 1.42\n",
       "3                  KNN         76.93 $\\pm$ 1.54\n",
       "0  Logistic Regression         71.37 $\\pm$ 0.93"
      ]
     },
     "execution_count": 578,
     "metadata": {},
     "output_type": "execute_result"
    }
   ],
   "source": [
    "# Put result of cross validation into table\n",
    "\n",
    "result = pd.DataFrame({\n",
    "    'Model' : ['Logistic Regression',\n",
    "              'Random Forest', 'Decision Tree', 'KNN'],\n",
    "    'Scores' : [mean_lgr,\n",
    "                mean_rf, \n",
    "                mean_dt,\n",
    "                mean_knn],\n",
    "    'std' : [std_lgr,std_rf,std_dt,std_knn]})\n",
    "result = result.sort_values(by='Scores', ascending=False)\n",
    "\n",
    "result['Scores (Cross Validated)'] = result['Scores'].map(str) + ' $\\pm$ ' + result['std'].map(str)\n",
    "\n",
    "result.drop(['std','Scores'], axis=1, inplace=True)\n",
    "\n",
    "result"
   ]
  },
  {
   "cell_type": "code",
   "execution_count": 579,
   "metadata": {},
   "outputs": [
    {
     "name": "stdout",
     "output_type": "stream",
     "text": [
      "statistic=14253.000, p-value=0.976\n",
      "Same proportions of errors (fail to reject H0)\n"
     ]
    }
   ],
   "source": [
    "# Compute the proportion errors between top 2 algorithms using McNemar test\n",
    "\n",
    "from statsmodels.stats.contingency_tables import mcnemar\n",
    "# Define contingency table\n",
    "table = [[23075, 14259],[14253,5437]]\n",
    "\n",
    "# Calculate mcnemar test\n",
    "result = mcnemar(table, exact=True)\n",
    "# Summarize the finding\n",
    "print('statistic=%.3f, p-value=%.3f' % (result.statistic, result.pvalue))\n",
    "# Interpret the p-value\n",
    "alpha = 0.05\n",
    "if result.pvalue > alpha:\n",
    "\tprint('Same proportions of errors (fail to reject H0)')\n",
    "else:\n",
    "\tprint('Different proportions of errors (reject H0)')"
   ]
  },
  {
   "cell_type": "code",
   "execution_count": 581,
   "metadata": {},
   "outputs": [
    {
     "name": "stdout",
     "output_type": "stream",
     "text": [
      "Fitting 10 folds for each of 768 candidates, totalling 7680 fits\n"
     ]
    },
    {
     "name": "stderr",
     "output_type": "stream",
     "text": [
      "[Parallel(n_jobs=1)]: Using backend SequentialBackend with 1 concurrent workers.\n",
      "[Parallel(n_jobs=1)]: Done 7680 out of 7680 | elapsed:  1.5min finished\n"
     ]
    },
    {
     "data": {
      "text/plain": [
       "{'criterion': 'entropy',\n",
       " 'max_features': 'log2',\n",
       " 'max_leaf_nodes': 350,\n",
       " 'min_samples_leaf': 10,\n",
       " 'min_samples_split': 4,\n",
       " 'splitter': 'random'}"
      ]
     },
     "execution_count": 581,
     "metadata": {},
     "output_type": "execute_result"
    }
   ],
   "source": [
    "# Decision tree is chosen for hyperparameter tuning because it has lower SD compared to RF\n",
    "\n",
    "# Perform grid search on decision tree\n",
    "from sklearn.model_selection import GridSearchCV\n",
    "dt = DecisionTreeClassifier()\n",
    "grid = {\"criterion\":(\"gini\", \"entropy\"), \"splitter\":(\"best\", \"random\"), \"min_samples_leaf\":[5, 10, 15, 20], \n",
    "        \"min_samples_split\":[2, 3, 4, 5], 'max_leaf_nodes':[250, 450, 350, 550], \"max_features\":(\"auto\", \"log2\", \"sqrt\")}\n",
    "clf = GridSearchCV(dt, grid, verbose = 1, cv = 10)\n",
    "clf.fit(X, y)\n",
    "clf.best_params_"
   ]
  },
  {
   "cell_type": "code",
   "execution_count": 585,
   "metadata": {},
   "outputs": [
    {
     "name": "stdout",
     "output_type": "stream",
     "text": [
      "80.94864299598929\n"
     ]
    }
   ],
   "source": [
    "print(clf.best_score_*100)"
   ]
  },
  {
   "cell_type": "code",
   "execution_count": 586,
   "metadata": {},
   "outputs": [
    {
     "name": "stdout",
     "output_type": "stream",
     "text": [
      "Decision Tree accuracy after hyperparameter tuning = 80.92 ± 1.42\n"
     ]
    }
   ],
   "source": [
    "# Decision tree after hyperparameter tuning\n",
    "decision_tree_ht = DecisionTreeClassifier(criterion = 'entropy', max_features = 'auto', max_leaf_nodes = 350, \n",
    "                                          min_samples_leaf = 5, min_samples_split = 3, splitter = 'random') \n",
    "decision_tree_ht.fit(X, y) \n",
    "scores_dt_ht = cross_val_score(decision_tree_ht, X, y, cv=10, scoring = 'accuracy')\n",
    "mean_dt_ht = round((scores_dt_ht.mean()*100),2)\n",
    "std_dt_ht = round((scores_dt_ht.std()*100),2)\n",
    "print('Decision Tree accuracy after hyperparameter tuning =', mean_dt_ht, u\"\\u00B1\", std_dt_ht)"
   ]
  },
  {
   "cell_type": "code",
   "execution_count": 592,
   "metadata": {},
   "outputs": [
    {
     "name": "stdout",
     "output_type": "stream",
     "text": [
      "Decision tree (tuned) confusion matrix:\n",
      "[[5720 1156]\n",
      " [1631 5749]]\n"
     ]
    }
   ],
   "source": [
    "# Decision tree (tuned) results and confusion matrix\n",
    "y_pred_dt_ht = cross_val_predict(decision_tree_ht, X, y, cv=10)\n",
    "conf_mat_dt_ht = confusion_matrix(y, y_pred_dt_ht)\n",
    "print('Decision tree (tuned) confusion matrix:')\n",
    "print(conf_mat_dt_ht)"
   ]
  },
  {
   "cell_type": "code",
   "execution_count": 588,
   "metadata": {},
   "outputs": [
    {
     "name": "stdout",
     "output_type": "stream",
     "text": [
      "Decision tree (tuned) score summary:\n",
      "              precision    recall  f1-score   support\n",
      "\n",
      "           0       0.78      0.83      0.81      6876\n",
      "           1       0.84      0.78      0.81      7380\n",
      "\n",
      "    accuracy                           0.81     14256\n",
      "   macro avg       0.81      0.81      0.81     14256\n",
      "weighted avg       0.81      0.81      0.81     14256\n",
      "\n"
     ]
    }
   ],
   "source": [
    "# Get classification report of decision tree (tuned)\n",
    "print('Decision tree (tuned) score summary:')\n",
    "print(classification_report(y, y_pred_dt_ht))"
   ]
  },
  {
   "cell_type": "code",
   "execution_count": 593,
   "metadata": {},
   "outputs": [
    {
     "data": {
      "text/plain": [
       "0.8054381446955832"
      ]
     },
     "execution_count": 593,
     "metadata": {},
     "output_type": "execute_result"
    }
   ],
   "source": [
    "# Get ROC score of decision tree (tuned)\n",
    "roc_auc_score(y, y_pred_dt_ht)"
   ]
  },
  {
   "cell_type": "code",
   "execution_count": 590,
   "metadata": {},
   "outputs": [
    {
     "name": "stdout",
     "output_type": "stream",
     "text": [
      "Fitting 10 folds for each of 12 candidates, totalling 120 fits\n"
     ]
    },
    {
     "name": "stderr",
     "output_type": "stream",
     "text": [
      "[Parallel(n_jobs=1)]: Using backend SequentialBackend with 1 concurrent workers.\n",
      "[Parallel(n_jobs=1)]: Done 120 out of 120 | elapsed:   23.7s finished\n"
     ]
    },
    {
     "data": {
      "text/plain": [
       "{'learning_rate': 0.5, 'n_estimators': 50}"
      ]
     },
     "execution_count": 590,
     "metadata": {},
     "output_type": "execute_result"
    }
   ],
   "source": [
    "# Preform grid search on gradient tree boosting\n",
    "from sklearn.ensemble import GradientBoostingClassifier\n",
    "gb = GradientBoostingClassifier()\n",
    "grid = {\"n_estimators\":[20, 30, 40, 50], \"learning_rate\":[0.1, 0.3, 0.5]}\n",
    "clf2 = GridSearchCV(gb, grid, verbose = 1, cv = 10)\n",
    "clf2.fit(X, y)\n",
    "clf2.best_params_"
   ]
  },
  {
   "cell_type": "code",
   "execution_count": 594,
   "metadata": {},
   "outputs": [
    {
     "name": "stdout",
     "output_type": "stream",
     "text": [
      "Gradient tree boosting accuracy = 80.3 ± 1.04\n"
     ]
    }
   ],
   "source": [
    "# Gradient tree boosting after hyperparameter tuning\n",
    "gb2 = GradientBoostingClassifier(n_estimators = 50, learning_rate = 0.5)\n",
    "gb2.fit(X, y) \n",
    "scores_gb2 = cross_val_score(gb2, X, y, cv=10, scoring = 'accuracy')\n",
    "mean_gb2 = round((scores_gb2.mean()*100),2)\n",
    "std_gb2 = round((scores_gb2.std()*100),2)\n",
    "print('Gradient tree boosting accuracy =', mean_gb2, u\"\\u00B1\", std_gb2)"
   ]
  },
  {
   "cell_type": "code",
   "execution_count": 595,
   "metadata": {},
   "outputs": [
    {
     "name": "stdout",
     "output_type": "stream",
     "text": [
      "Gradient tree boosting confusion matrix:\n",
      "[[5415 1461]\n",
      " [1348 6032]]\n"
     ]
    }
   ],
   "source": [
    "# Get classification report of gradient tree boosting (tuned)\n",
    "y_pred_gb2 = cross_val_predict(gb2, X, y, cv=10)\n",
    "conf_mat_gb2 = confusion_matrix(y, y_pred_gb2)\n",
    "print('Gradient tree boosting confusion matrix:')\n",
    "print(conf_mat_gb2)"
   ]
  },
  {
   "cell_type": "code",
   "execution_count": 596,
   "metadata": {},
   "outputs": [
    {
     "name": "stdout",
     "output_type": "stream",
     "text": [
      "Gradient tree boosting (tuned) score summary:\n",
      "              precision    recall  f1-score   support\n",
      "\n",
      "           0       0.80      0.79      0.79      6876\n",
      "           1       0.81      0.82      0.81      7380\n",
      "\n",
      "    accuracy                           0.80     14256\n",
      "   macro avg       0.80      0.80      0.80     14256\n",
      "weighted avg       0.80      0.80      0.80     14256\n",
      "\n"
     ]
    }
   ],
   "source": [
    "print('Gradient tree boosting (tuned) score summary:')\n",
    "print(classification_report(y, y_pred_gb2))"
   ]
  },
  {
   "cell_type": "code",
   "execution_count": 597,
   "metadata": {},
   "outputs": [
    {
     "data": {
      "text/plain": [
       "0.8024329942252302"
      ]
     },
     "execution_count": 597,
     "metadata": {},
     "output_type": "execute_result"
    }
   ],
   "source": [
    "# Get ROC score of gradient tree boosting (tuned)\n",
    "roc_auc_score(y, y_pred_gb2)"
   ]
  },
  {
   "cell_type": "code",
   "execution_count": 655,
   "metadata": {},
   "outputs": [],
   "source": [
    "# load ec2 testing dataset\n",
    "spot_test = pd.read_csv(\"/Users/Chee San/Downloads/ec2_testfile.csv\")"
   ]
  },
  {
   "cell_type": "code",
   "execution_count": 656,
   "metadata": {},
   "outputs": [
    {
     "data": {
      "text/html": [
       "<div>\n",
       "<style scoped>\n",
       "    .dataframe tbody tr th:only-of-type {\n",
       "        vertical-align: middle;\n",
       "    }\n",
       "\n",
       "    .dataframe tbody tr th {\n",
       "        vertical-align: top;\n",
       "    }\n",
       "\n",
       "    .dataframe thead th {\n",
       "        text-align: right;\n",
       "    }\n",
       "</style>\n",
       "<table border=\"1\" class=\"dataframe\">\n",
       "  <thead>\n",
       "    <tr style=\"text-align: right;\">\n",
       "      <th></th>\n",
       "      <th>vcpus</th>\n",
       "      <th>sustained_clock_speed_ghz</th>\n",
       "      <th>memory_mib</th>\n",
       "      <th>gpus</th>\n",
       "      <th>on_demand_hibernation_support</th>\n",
       "      <th>burstable_performance_support</th>\n",
       "      <th>current_generation</th>\n",
       "      <th>interruption_rate</th>\n",
       "    </tr>\n",
       "  </thead>\n",
       "  <tbody>\n",
       "    <tr>\n",
       "      <th>0</th>\n",
       "      <td>2</td>\n",
       "      <td>2.3</td>\n",
       "      <td>4096</td>\n",
       "      <td>0</td>\n",
       "      <td>True</td>\n",
       "      <td>True</td>\n",
       "      <td>True</td>\n",
       "      <td>unlikely</td>\n",
       "    </tr>\n",
       "    <tr>\n",
       "      <th>1</th>\n",
       "      <td>1</td>\n",
       "      <td>2.5</td>\n",
       "      <td>1024</td>\n",
       "      <td>0</td>\n",
       "      <td>True</td>\n",
       "      <td>True</td>\n",
       "      <td>True</td>\n",
       "      <td>unlikely</td>\n",
       "    </tr>\n",
       "    <tr>\n",
       "      <th>2</th>\n",
       "      <td>1</td>\n",
       "      <td>2.5</td>\n",
       "      <td>2048</td>\n",
       "      <td>0</td>\n",
       "      <td>True</td>\n",
       "      <td>True</td>\n",
       "      <td>True</td>\n",
       "      <td>unlikely</td>\n",
       "    </tr>\n",
       "    <tr>\n",
       "      <th>3</th>\n",
       "      <td>16</td>\n",
       "      <td>2.3</td>\n",
       "      <td>32768</td>\n",
       "      <td>0</td>\n",
       "      <td>False</td>\n",
       "      <td>False</td>\n",
       "      <td>True</td>\n",
       "      <td>unlikely</td>\n",
       "    </tr>\n",
       "    <tr>\n",
       "      <th>4</th>\n",
       "      <td>96</td>\n",
       "      <td>3.6</td>\n",
       "      <td>196608</td>\n",
       "      <td>0</td>\n",
       "      <td>False</td>\n",
       "      <td>False</td>\n",
       "      <td>True</td>\n",
       "      <td>unlikely</td>\n",
       "    </tr>\n",
       "    <tr>\n",
       "      <th>5</th>\n",
       "      <td>96</td>\n",
       "      <td>3.6</td>\n",
       "      <td>196608</td>\n",
       "      <td>0</td>\n",
       "      <td>False</td>\n",
       "      <td>False</td>\n",
       "      <td>True</td>\n",
       "      <td>unlikely</td>\n",
       "    </tr>\n",
       "    <tr>\n",
       "      <th>6</th>\n",
       "      <td>72</td>\n",
       "      <td>3.4</td>\n",
       "      <td>196608</td>\n",
       "      <td>0</td>\n",
       "      <td>False</td>\n",
       "      <td>False</td>\n",
       "      <td>True</td>\n",
       "      <td>unlikely</td>\n",
       "    </tr>\n",
       "    <tr>\n",
       "      <th>7</th>\n",
       "      <td>72</td>\n",
       "      <td>3.4</td>\n",
       "      <td>196608</td>\n",
       "      <td>0</td>\n",
       "      <td>False</td>\n",
       "      <td>False</td>\n",
       "      <td>True</td>\n",
       "      <td>unlikely</td>\n",
       "    </tr>\n",
       "    <tr>\n",
       "      <th>8</th>\n",
       "      <td>16</td>\n",
       "      <td>2.9</td>\n",
       "      <td>30720</td>\n",
       "      <td>0</td>\n",
       "      <td>True</td>\n",
       "      <td>False</td>\n",
       "      <td>True</td>\n",
       "      <td>unlikely</td>\n",
       "    </tr>\n",
       "    <tr>\n",
       "      <th>9</th>\n",
       "      <td>16</td>\n",
       "      <td>2.9</td>\n",
       "      <td>30720</td>\n",
       "      <td>0</td>\n",
       "      <td>True</td>\n",
       "      <td>False</td>\n",
       "      <td>True</td>\n",
       "      <td>unlikely</td>\n",
       "    </tr>\n",
       "  </tbody>\n",
       "</table>\n",
       "</div>"
      ],
      "text/plain": [
       "   vcpus  sustained_clock_speed_ghz  memory_mib  gpus  \\\n",
       "0      2                        2.3        4096     0   \n",
       "1      1                        2.5        1024     0   \n",
       "2      1                        2.5        2048     0   \n",
       "3     16                        2.3       32768     0   \n",
       "4     96                        3.6      196608     0   \n",
       "5     96                        3.6      196608     0   \n",
       "6     72                        3.4      196608     0   \n",
       "7     72                        3.4      196608     0   \n",
       "8     16                        2.9       30720     0   \n",
       "9     16                        2.9       30720     0   \n",
       "\n",
       "   on_demand_hibernation_support  burstable_performance_support  \\\n",
       "0                           True                           True   \n",
       "1                           True                           True   \n",
       "2                           True                           True   \n",
       "3                          False                          False   \n",
       "4                          False                          False   \n",
       "5                          False                          False   \n",
       "6                          False                          False   \n",
       "7                          False                          False   \n",
       "8                           True                          False   \n",
       "9                           True                          False   \n",
       "\n",
       "   current_generation interruption_rate  \n",
       "0                True          unlikely  \n",
       "1                True          unlikely  \n",
       "2                True          unlikely  \n",
       "3                True          unlikely  \n",
       "4                True          unlikely  \n",
       "5                True          unlikely  \n",
       "6                True          unlikely  \n",
       "7                True          unlikely  \n",
       "8                True          unlikely  \n",
       "9                True          unlikely  "
      ]
     },
     "execution_count": 656,
     "metadata": {},
     "output_type": "execute_result"
    }
   ],
   "source": [
    "# Removed the columns which are not going to be used as predictors\n",
    "spot_test = spot_test.drop(columns=['id'])\n",
    "spot_test = spot_test.drop(columns=['check_time'])\n",
    "spot_test = spot_test.drop(columns=['instance_type'])\n",
    "\n",
    "# View the first 10 rows of the dataset\n",
    "spot_test.head(10)"
   ]
  },
  {
   "cell_type": "code",
   "execution_count": 657,
   "metadata": {},
   "outputs": [],
   "source": [
    "# Normalize numerical columns in the testing set\n",
    "mms = preprocessing.MinMaxScaler()\n",
    "spot_test[['vcpus','sustained_clock_speed_ghz','memory_mib','gpus']] = mms.fit_transform(spot_test[['vcpus',\n",
    "                                                                                                    'sustained_clock_speed_ghz','memory_mib','gpus']])\n",
    "\n",
    "# Convert interruption_rate into '1' for 'likely' and '0' for 'unlikely'\n",
    "category = {'likely': 1, 'unlikely': 0}\n",
    "spot_test.interruption_rate = [category[item] for item in spot_test.interruption_rate]"
   ]
  },
  {
   "cell_type": "code",
   "execution_count": 658,
   "metadata": {},
   "outputs": [],
   "source": [
    "# Encoding the nominal values and passthrough other columns\n",
    "spot_test_features = spot_test[['vcpus', 'sustained_clock_speed_ghz', 'memory_mib', \n",
    "                 'gpus', 'on_demand_hibernation_support', 'burstable_performance_support', \n",
    "                 'current_generation']]\n",
    "\n",
    "# Convert nominal to binary\n",
    "training_predictors_test = pd.get_dummies(spot_test_features)"
   ]
  },
  {
   "cell_type": "code",
   "execution_count": 659,
   "metadata": {},
   "outputs": [],
   "source": [
    "# Identify features and target variables\n",
    "X_test = training_predictors_test # Features\n",
    "y_test = spot_test['interruption_rate'] # Target variable\n",
    "# Save a CSV copy of the tranformed test dataset\n",
    "training_predictors_test.to_csv(\"/Users/Chee San/Downloads/spot_transformed_test.csv\")"
   ]
  },
  {
   "cell_type": "code",
   "execution_count": 660,
   "metadata": {},
   "outputs": [
    {
     "name": "stdout",
     "output_type": "stream",
     "text": [
      "Decision Tree accuracy = 73.33 ± 11.78\n"
     ]
    }
   ],
   "source": [
    "# Decision Tree performance on test set\n",
    "decision_tree_test = DecisionTreeClassifier(criterion ='entropy', splitter = 'random', max_leaf_nodes = 350, \n",
    "                                            min_samples_leaf = 5, min_samples_split = 3, max_features = 'auto', random_state = 10)\n",
    "decision_tree_test.fit(X_test, y_test) \n",
    "scores_dt = cross_val_score(decision_tree_test, X_test, y_test, cv=10, scoring = 'accuracy')\n",
    "mean_dt = round((scores_dt.mean()*100),2)\n",
    "std_dt = round((scores_dt.std()*100),2)\n",
    "print('Decision Tree accuracy =', mean_dt, u\"\\u00B1\", std_dt)"
   ]
  },
  {
   "cell_type": "code",
   "execution_count": 663,
   "metadata": {},
   "outputs": [
    {
     "name": "stdout",
     "output_type": "stream",
     "text": [
      "Decision Tree confusion matrix:\n",
      "[[110 111]\n",
      " [ 12 228]]\n"
     ]
    }
   ],
   "source": [
    "# Get classification report of decision tree on test set\n",
    "y_pred_dttest = cross_val_predict(decision_tree_test, X_test, y_test, cv=10)\n",
    "conf_mat_dttest = confusion_matrix(y_test, y_pred_dttest)\n",
    "print('Decision Tree confusion matrix:')\n",
    "print(conf_mat_dttest)"
   ]
  },
  {
   "cell_type": "code",
   "execution_count": 664,
   "metadata": {},
   "outputs": [
    {
     "name": "stdout",
     "output_type": "stream",
     "text": [
      "Decision Tree on test set score summary:\n",
      "              precision    recall  f1-score   support\n",
      "\n",
      "           0       0.90      0.50      0.64       221\n",
      "           1       0.67      0.95      0.79       240\n",
      "\n",
      "    accuracy                           0.73       461\n",
      "   macro avg       0.79      0.72      0.71       461\n",
      "weighted avg       0.78      0.73      0.72       461\n",
      "\n"
     ]
    }
   ],
   "source": [
    "# Get the classification report of decision tree on test set\n",
    "print('Decision Tree on test set score summary:')\n",
    "print(classification_report(y_test, y_pred_dttest))"
   ]
  },
  {
   "cell_type": "code",
   "execution_count": 665,
   "metadata": {},
   "outputs": [
    {
     "data": {
      "text/plain": [
       "0.723868778280543"
      ]
     },
     "execution_count": 665,
     "metadata": {},
     "output_type": "execute_result"
    }
   ],
   "source": [
    "# Get ROC score of decision tree on test set\n",
    "roc_auc_score(y_test, y_pred_dttest)"
   ]
  },
  {
   "cell_type": "code",
   "execution_count": 666,
   "metadata": {},
   "outputs": [
    {
     "name": "stdout",
     "output_type": "stream",
     "text": [
      "Fitting 10 folds for each of 12 candidates, totalling 120 fits\n"
     ]
    },
    {
     "name": "stderr",
     "output_type": "stream",
     "text": [
      "[Parallel(n_jobs=1)]: Using backend SequentialBackend with 1 concurrent workers.\n",
      "[Parallel(n_jobs=1)]: Done 120 out of 120 | elapsed:    3.4s finished\n"
     ]
    },
    {
     "data": {
      "text/plain": [
       "{'learning_rate': 0.1, 'n_estimators': 20}"
      ]
     },
     "execution_count": 666,
     "metadata": {},
     "output_type": "execute_result"
    }
   ],
   "source": [
    "# Gradient tree boosting\n",
    "from sklearn.ensemble import GradientBoostingClassifier\n",
    "gb = GradientBoostingClassifier()\n",
    "grid = {\"n_estimators\":[20, 30, 40, 50], \"learning_rate\":[0.1, 0.5, 1.0]}\n",
    "clf3 = GridSearchCV(gb, grid, verbose = 1, cv = 10)\n",
    "clf3.fit(X_test, y_test)\n",
    "clf3.best_params_"
   ]
  },
  {
   "cell_type": "code",
   "execution_count": 667,
   "metadata": {},
   "outputs": [
    {
     "name": "stdout",
     "output_type": "stream",
     "text": [
      "Gradient tree boosting accuracy = 72.69 ± 13.09\n"
     ]
    }
   ],
   "source": [
    "# Gradient tree boosting test\n",
    "gb3 = GradientBoostingClassifier(n_estimators = 20, learning_rate = 0.1)\n",
    "gb3.fit(X_test, y_test) \n",
    "scores_gb3 = cross_val_score(gb3, X_test, y_test, cv=10, scoring = 'accuracy')\n",
    "mean_gb3 = round((scores_gb3.mean()*100),2)\n",
    "std_gb3= round((scores_gb3.std()*100),2)\n",
    "print('Gradient tree boosting accuracy =', mean_gb3, u\"\\u00B1\", std_gb3)"
   ]
  },
  {
   "cell_type": "code",
   "execution_count": 668,
   "metadata": {},
   "outputs": [
    {
     "name": "stdout",
     "output_type": "stream",
     "text": [
      "Gradient tree boosting confusion matrix:\n",
      "[[119 102]\n",
      " [ 24 216]]\n"
     ]
    }
   ],
   "source": [
    "y_pred_gb3 = cross_val_predict(gb3, X_test, y_test, cv=10)\n",
    "conf_mat_gb3 = confusion_matrix(y_test, y_pred_gb3)\n",
    "print('Gradient tree boosting confusion matrix:')\n",
    "print(conf_mat_gb3)"
   ]
  },
  {
   "cell_type": "code",
   "execution_count": 669,
   "metadata": {},
   "outputs": [
    {
     "name": "stdout",
     "output_type": "stream",
     "text": [
      "Gradient tree boosting score summary:\n",
      "              precision    recall  f1-score   support\n",
      "\n",
      "           0       0.83      0.54      0.65       221\n",
      "           1       0.68      0.90      0.77       240\n",
      "\n",
      "    accuracy                           0.73       461\n",
      "   macro avg       0.76      0.72      0.71       461\n",
      "weighted avg       0.75      0.73      0.72       461\n",
      "\n"
     ]
    }
   ],
   "source": [
    "print('Gradient tree boosting score summary:')\n",
    "print(classification_report(y_test, y_pred_gb3))"
   ]
  },
  {
   "cell_type": "code",
   "execution_count": 670,
   "metadata": {},
   "outputs": [
    {
     "data": {
      "text/plain": [
       "0.7192307692307692"
      ]
     },
     "execution_count": 670,
     "metadata": {},
     "output_type": "execute_result"
    }
   ],
   "source": [
    "# Get ROC score of the model\n",
    "roc_auc_score(y_test, y_pred_gb3)"
   ]
  },
  {
   "cell_type": "code",
   "execution_count": 671,
   "metadata": {},
   "outputs": [
    {
     "data": {
      "image/png": "[encoded data removed]",
      "text/plain": [
       "<Figure size 432x288 with 1 Axes>"
      ]
     },
     "metadata": {
      "needs_background": "light"
     },
     "output_type": "display_data"
    }
   ],
   "source": [
    "# Plot the ROC curves\n",
    "from sklearn.metrics import roc_curve\n",
    "from matplotlib import pyplot\n",
    "\n",
    "# Calculate roc curve of original decision tree on train set\n",
    "ns_fpr1, ns_tpr1, _ = roc_curve(y, y_pred_dt)\n",
    "# Plot the roc curve for the model\n",
    "pyplot.plot(ns_fpr1, ns_tpr1)\n",
    "# Axis labels\n",
    "pyplot.xlabel('False Positive Rate')\n",
    "pyplot.ylabel('True Positive Rate')\n",
    "# Show the legend\n",
    "pyplot.legend(['ROC score = 0.810'])\n",
    "# Show the title\n",
    "pyplot.title('ROC curve of decision tree on train set')\n",
    "# Show the plot\n",
    "pyplot.show()"
   ]
  },
  {
   "cell_type": "code",
   "execution_count": 672,
   "metadata": {},
   "outputs": [
    {
     "data": {
      "image/png": "[encoded data removed]",
      "text/plain": [
       "<Figure size 432x288 with 1 Axes>"
      ]
     },
     "metadata": {
      "needs_background": "light"
     },
     "output_type": "display_data"
    }
   ],
   "source": [
    "# Calculate roc curve of decision tree on train set after hyperparameter tuning\n",
    "ns_fpr, ns_tpr, _ = roc_curve(y, y_pred_dt_ht)\n",
    "# Plot the roc curve for the model\n",
    "pyplot.plot(ns_fpr, ns_tpr)\n",
    "# Axis labels\n",
    "pyplot.xlabel('False Positive Rate')\n",
    "pyplot.ylabel('True Positive Rate')\n",
    "# Show the legend\n",
    "pyplot.legend(['ROC score = 0.810'])\n",
    "# Show the title\n",
    "pyplot.title('ROC curve of decision tree (tuned) on train set')\n",
    "# Show the plot\n",
    "pyplot.show()"
   ]
  },
  {
   "cell_type": "code",
   "execution_count": 673,
   "metadata": {},
   "outputs": [
    {
     "data": {
      "image/png": "[encoded data removed]",
      "text/plain": [
       "<Figure size 432x288 with 1 Axes>"
      ]
     },
     "metadata": {
      "needs_background": "light"
     },
     "output_type": "display_data"
    }
   ],
   "source": [
    "# Calculate roc curve of decision tree (tuned) on test set\n",
    "ns_fpr, ns_tpr, _ = roc_curve(y_test, y_pred_dttest)\n",
    "# Plot the roc curve for the model\n",
    "pyplot.plot(ns_fpr, ns_tpr)\n",
    "# Axis labels\n",
    "pyplot.xlabel('False Positive Rate')\n",
    "pyplot.ylabel('True Positive Rate')\n",
    "# Show the legend\n",
    "pyplot.legend(['ROC score = 0.724'])\n",
    "# Show the title\n",
    "pyplot.title('ROC curve of decision tree (tuned) on test set')\n",
    "# Show the plot\n",
    "pyplot.show()"
   ]
  },
  {
   "cell_type": "code",
   "execution_count": 674,
   "metadata": {},
   "outputs": [
    {
     "data": {
      "image/png": "[encoded data removed]",
      "text/plain": [
       "<Figure size 432x288 with 1 Axes>"
      ]
     },
     "metadata": {
      "needs_background": "light"
     },
     "output_type": "display_data"
    }
   ],
   "source": [
    "# Calculate roc curve of gradient tree boosting after hyperparameter tuning on train set\n",
    "ns_fpr, ns_tpr, _ = roc_curve(y, y_pred_gb2)\n",
    "# Plot the roc curve for the model\n",
    "pyplot.plot(ns_fpr, ns_tpr)\n",
    "# Axis labels\n",
    "pyplot.xlabel('False Positive Rate')\n",
    "pyplot.ylabel('True Positive Rate')\n",
    "# Show the legend\n",
    "pyplot.legend(['AUC score = 0.797'])\n",
    "# Show the title\n",
    "pyplot.title('ROC curve of gradient tree boosting (tuned) on train set')\n",
    "# Show the plot\n",
    "pyplot.show()"
   ]
  },
  {
   "cell_type": "code",
   "execution_count": 675,
   "metadata": {},
   "outputs": [
    {
     "data": {
      "image/png": "[encoded data removed]",
      "text/plain": [
       "<Figure size 432x288 with 1 Axes>"
      ]
     },
     "metadata": {
      "needs_background": "light"
     },
     "output_type": "display_data"
    }
   ],
   "source": [
    "# Calculate roc curve of gradient tree boosting (tuned) on test set\n",
    "ns_fpr, ns_tpr, _ = roc_curve(y_test, y_pred_gb3)\n",
    "# Plot the roc curve for the model\n",
    "pyplot.plot(ns_fpr, ns_tpr)\n",
    "# Axis labels\n",
    "pyplot.xlabel('False Positive Rate')\n",
    "pyplot.ylabel('True Positive Rate')\n",
    "# Show the legend\n",
    "pyplot.legend(['AUC score = 0.719'])\n",
    "# Show the title\n",
    "pyplot.title('ROC curve of gradient tree boosting (tuned) on test set')\n",
    "# Show the plot\n",
    "pyplot.show()"
   ]
  },
  {
   "cell_type": "code",
   "execution_count": 700,
   "metadata": {},
   "outputs": [
    {
     "data": {
      "text/plain": [
       "'EC2.pdf'"
      ]
     },
     "execution_count": 700,
     "metadata": {},
     "output_type": "execute_result"
    },
    {
     "data": {
      "image/png": "[encoded data removed]",
      "text/plain": [
       "<Figure size 432x288 with 1 Axes>"
      ]
     },
     "metadata": {
      "needs_background": "light"
     },
     "output_type": "display_data"
    }
   ],
   "source": [
    "# Plot the decision tree on test set\n",
    "from sklearn import tree\n",
    "\n",
    "dt_test = tree.DecisionTreeClassifier(criterion ='entropy', splitter = 'random', max_leaf_nodes = 350, \n",
    "                                      min_samples_leaf = 5, min_samples_split = 3, max_features = 'auto', random_state = 10)\n",
    "dt_test = dt_test.fit(X_test, y_test)\n",
    "tree.plot_tree(dt_test) \n",
    "\n",
    "# Export the decision tree as pdf file\n",
    "import graphviz \n",
    "spot_features = ['vcpus', 'sustained_clock_speed_ghz', 'memory_mib','gpus', 'on_demand_hibernation_support', 'burstable_performance_support', 'current_generation']\n",
    "y_labels.fit_transform(spot_test.interruption_rate)\n",
    "dot_data = tree.export_graphviz(dt_test, out_file=None, feature_names = spot_features, class_names= ['unlikely','likely'], filled=True,rounded=True,special_characters=True) \n",
    "graph = graphviz.Source(dot_data) \n",
    "graph.render(\"EC2\")"
   ]
  }
 ],
 "metadata": {
  "kernelspec": {
   "display_name": "Python 3",
   "language": "python",
   "name": "python3"
  },
  "language_info": {
   "codemirror_mode": {
    "name": "ipython",
    "version": 3
   },
   "file_extension": ".py",
   "mimetype": "text/x-python",
   "name": "python",
   "nbconvert_exporter": "python",
   "pygments_lexer": "ipython3",
   "version": "3.7.6"
  }
 },
 "nbformat": 4,
 "nbformat_minor": 4
}
